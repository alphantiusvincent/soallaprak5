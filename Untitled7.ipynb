{
  "nbformat": 4,
  "nbformat_minor": 0,
  "metadata": {
    "colab": {
      "provenance": []
    },
    "kernelspec": {
      "name": "python3",
      "display_name": "Python 3"
    },
    "language_info": {
      "name": "python"
    }
  },
  "cells": [
    {
      "cell_type": "code",
      "execution_count": 1,
      "metadata": {
        "colab": {
          "base_uri": "https://localhost:8080/"
        },
        "id": "XSnpuid7_EZ4",
        "outputId": "e16a571a-b10f-4a3a-9ba8-a755e1c9f260"
      },
      "outputs": [
        {
          "output_type": "stream",
          "name": "stdout",
          "text": [
            "masukkan input angka pertama:2\n",
            "masukkan input angka kedua:4\n",
            "2 x 4 = 4 + 4 = 8\n"
          ]
        }
      ],
      "source": [
        "#membuatfungsi def perkalian()\n",
        "def perkalian():\n",
        "    #membuat input penggna\n",
        "    input1 = int(input(\"masukkan input angka pertama:\"))\n",
        "    input2 = int(input(\"masukkan input angka kedua:\"))\n",
        "\n",
        "    hasil = 0\n",
        "    #buat fungsi for untuk proses output program\n",
        "    for i in range(input1):\n",
        "        hasil = hasil + input2\n",
        "        #rumusnya\n",
        "    HasilAkhir = (f\"{input1} x {input2} = {f'{input2} + ' * (input1-1)}{input2} = {hasil}\")\n",
        "    #return hasil akhir(memanggil fungsi dan print ouput)\n",
        "    return HasilAkhir\n",
        "print(perkalian())"
      ]
    },
    {
      "cell_type": "code",
      "source": [
        "#membuat fungsi def ganjil\n",
        "def ganjil(bawah, atas):\n",
        "    #membuat fungsi for jika atas lebih gede dari bwh\n",
        "    if bawah < atas:\n",
        "        # fungsi for untuk deret input dri bil terkecil ke terbesar\n",
        "        for i in range(bawah, atas + 1):\n",
        "            if i % 2 != 0:\n",
        "                print(i, end=\" \")\n",
        "\n",
        "    #kondisi selain diatas\n",
        "    else:\n",
        "        #  fungsi for untuk deret input dri bil terbesar ke terkecil\n",
        "        for i in range(bawah, atas - 1, -1):\n",
        "            if i % 2 != 0:\n",
        "                print(i, end=\" \")\n",
        "\n",
        "# Input untuk pengguja\n",
        "bawah = int(input(\"Masukkan batas bawah: \"))\n",
        "atas = int(input(\"Masukkan batas atas: \"))\n",
        "#outpu\n",
        "print(\"deret bilangan ganjil nya:\")\n",
        "ganjil(bawah, atas)"
      ],
      "metadata": {
        "id": "DFLnntYh_NDx"
      },
      "execution_count": null,
      "outputs": []
    },
    {
      "cell_type": "code",
      "source": [
        "#buat fungsi def\n",
        "def hitungips(jumlahmatkul):\n",
        "    totalsks = 0\n",
        "    totalbobot = 0\n",
        "\n",
        "    for i in range(jumlahmatkul):\n",
        "        nilai = input(f\"Masukkan nilai mata kuliah {i+1} (A/B/C/D): \").upper()\n",
        "        sks = 3  # Asumsi sks setiap mata kuliah selalu 3\n",
        "\n",
        "        #gunakan percabangan(modul)\n",
        "        if nilai == \"A\":\n",
        "            bobot = 4\n",
        "        elif nilai == \"B\":\n",
        "            bobot = 3\n",
        "        elif nilai == \"C\":\n",
        "            bobot = 2\n",
        "        elif nilai == \"D\":\n",
        "            bobot = 1\n",
        "        else:\n",
        "            print(\"Nilai tidak valid/error. Masukkan nilai yang benar\")\n",
        "            continue\n",
        "        totalsks += sks\n",
        "        totalbobot += sks * bobot\n",
        "    ips = totalbobot / totalsks\n",
        "    return ips\n",
        "# Input dari pengguna\n",
        "jumlahmatkul = int(input(\"Masukkan jumlah mata kuliah: \"))\n",
        "# Hitung IPS\n",
        "hasilitung = hitungips(jumlahmatkul)\n",
        "# Tampilkan hasil\n",
        "print(f\"Indeks Prestasi Semester anda adalah : {hasilitung:.2f}\")\n",
        "\n",
        "\n"
      ],
      "metadata": {
        "id": "WtXmuh4W_MKg"
      },
      "execution_count": null,
      "outputs": []
    }
  ]
}